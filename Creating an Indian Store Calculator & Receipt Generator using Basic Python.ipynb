{
 "cells": [
  {
   "cell_type": "markdown",
   "metadata": {},
   "source": [
    "# Project:  Creating an Indian Store Calculator & Receipt Generator using Basic Python"
   ]
  },
  {
   "cell_type": "code",
   "execution_count": 17,
   "metadata": {},
   "outputs": [
    {
     "name": "stdout",
     "output_type": "stream",
     "text": [
      "---------Welcome to Indian Store-------\n",
      "\n",
      "Enter the items price or press q  to quit : 10\n",
      "Your order total so far is 10 \n",
      "\n",
      "Enter the items price or press q  to quit : 23\n",
      "Your order total so far is 33 \n",
      "\n",
      "Enter the items price or press q  to quit : 55\n",
      "Your order total so far is 88 \n",
      "\n",
      "Enter the items price or press q  to quit : 20\n",
      "Your order total so far is 108 \n",
      "\n",
      "Enter the items price or press q  to quit : q\n",
      "\n",
      "Your total bill is Rs 108. Thanks for shopping with us!\n"
     ]
    }
   ],
   "source": [
    "print(\"---------Welcome to Indian Store-------\\n\")\n",
    "sum=0\n",
    "while(True):\n",
    "    UserInput=input(\"Enter the items price or press q  to quit : \")\n",
    "    if(UserInput!='q'):\n",
    "        sum= sum + int(UserInput)\n",
    "        print(f\"Your order total so far is {sum} \\n\")\n",
    "        \n",
    "    else:\n",
    "        print(f\"\\nYour total bill is Rs {sum}. Thanks for shopping with us!\")\n",
    "        break\n"
   ]
  }
 ],
 "metadata": {
  "kernelspec": {
   "display_name": "Python 3",
   "language": "python",
   "name": "python3"
  },
  "language_info": {
   "codemirror_mode": {
    "name": "ipython",
    "version": 3
   },
   "file_extension": ".py",
   "mimetype": "text/x-python",
   "name": "python",
   "nbconvert_exporter": "python",
   "pygments_lexer": "ipython3",
   "version": "3.8.3"
  }
 },
 "nbformat": 4,
 "nbformat_minor": 4
}
